{
 "cells": [
  {
   "cell_type": "code",
   "execution_count": null,
   "metadata": {},
   "outputs": [],
   "source": [
    "import pandas as pd\n",
    "import os\n",
    "from dotenv import load_dotenv\n",
    "\n",
    "load_dotenv()\n",
    "path = os.environ.get(\"FILES_PATH\")\n",
    "hoja = pd.read_excel(path + 'comodoAGS.xlsx', keep_default_na=False)"
   ]
  },
  {
   "cell_type": "code",
   "execution_count": null,
   "metadata": {},
   "outputs": [],
   "source": [
    "# Invierte el orden de las filas\n",
    "hoja = hoja.iloc[::-1]"
   ]
  },
  {
   "cell_type": "code",
   "execution_count": null,
   "metadata": {},
   "outputs": [],
   "source": [
    "# Busca primera columna y primera fila\n",
    "for c in hoja.columns:\n",
    "    if (len(hoja[hoja[c]=='LUNES'])) > 0:\n",
    "        primera_columna = hoja.columns.get_loc(c)\n",
    "        filas_lunes = hoja.index[hoja[c]=='LUNES']\n",
    "        primera_fila = filas_lunes[0]\n",
    "        break\n",
    "\n",
    "print(primera_columna)\n",
    "print(primera_fila)\n"
   ]
  },
  {
   "cell_type": "code",
   "execution_count": null,
   "metadata": {},
   "outputs": [],
   "source": [
    "tabla = []\n",
    "for index in range(primera_columna, primera_columna+7):\n",
    "    # Select column by index position using iloc[]\n",
    "    columnSeriesObj = hoja.iloc[:, index]\n",
    "    #print(type(columnSeriesObj))\n",
    "    for i, v in columnSeriesObj.items():\n",
    "      if i == primera_fila:\n",
    "        break\n",
    "      if v == '':\n",
    "        continue\n",
    "      if type(v) is int:\n",
    "        dia = v\n",
    "        #print(f'Numero {v}')\n",
    "      else:\n",
    "        #Hardcoded: Agosto/2022\n",
    "        tabla.append([str(dia).zfill(2)+'/08/2022', v])\n",
    "        #print(f\"Index: {i}, Value: {v}\")\n"
   ]
  },
  {
   "cell_type": "code",
   "execution_count": null,
   "metadata": {},
   "outputs": [],
   "source": [
    "#print(tabla)\n",
    "resultado = pd.DataFrame(tabla)"
   ]
  },
  {
   "cell_type": "code",
   "execution_count": null,
   "metadata": {},
   "outputs": [],
   "source": [
    "resultado.to_csv(path + 'comodoAGS.csv', index=False, encoding='utf-8-sig', header=['FECHA', 'FARMACIA'])"
   ]
  }
 ],
 "metadata": {
  "kernelspec": {
   "display_name": "Python 3.10.4 ('PythonHoras-WsMfBCke')",
   "language": "python",
   "name": "python3"
  },
  "language_info": {
   "codemirror_mode": {
    "name": "ipython",
    "version": 3
   },
   "file_extension": ".py",
   "mimetype": "text/x-python",
   "name": "python",
   "nbconvert_exporter": "python",
   "pygments_lexer": "ipython3",
   "version": "3.10.4"
  },
  "orig_nbformat": 4,
  "vscode": {
   "interpreter": {
    "hash": "16a56a3885e63d96e0a32e389c6372f186744cb1904d658f62e5ee44db82c7da"
   }
  }
 },
 "nbformat": 4,
 "nbformat_minor": 2
}
